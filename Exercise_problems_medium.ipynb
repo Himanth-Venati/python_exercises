{
 "cells": [
  {
   "cell_type": "markdown",
   "metadata": {},
   "source": [
    "Exercise 1.3 (🌶️): You look at the clock and see that it is currently 14.00h. You set an alarm to go off 535 hours later. At what time will the alarm go off? Write a program that prints the answer."
   ]
  },
  {
   "cell_type": "code",
   "execution_count": 6,
   "metadata": {},
   "outputs": [
    {
     "data": {
      "text/plain": [
       "21"
      ]
     },
     "execution_count": 6,
     "metadata": {},
     "output_type": "execute_result"
    }
   ],
   "source": [
    "def time(start,hours):\n",
    "    total_time=start+hours\n",
    "    alarm_time=total_time%24\n",
    "    return(alarm_time)\n",
    "time(14,535)    "
   ]
  },
  {
   "cell_type": "markdown",
   "metadata": {},
   "source": [
    "Exercise 5.4 (🌶️): \"99 bottles of beer\" is a traditional song in the United States and Canada. It is popular to sing on long trips, as it has a very repetitive format which is easy to memorize, and can take a long time to sing. The song's simple lyrics are as follows: \"99 bottles of beer on the wall, 99 'bottles of beer'. Take one down, pass it around, 98 bottles of beer on the wall.\" The same verse is repeated, each time with one fewer bottle. The song is completed when the singer or singers reach zero. Write a function that generates and prints all the verses of the song (though you might start a bit lower, for instance with 10 bottles). Make sure that your loop is not endless, and that you use the proper inflection for the word \"bottle\"."
   ]
  },
  {
   "cell_type": "code",
   "execution_count": 21,
   "metadata": {},
   "outputs": [
    {
     "name": "stdout",
     "output_type": "stream",
     "text": [
      "10bottles of beer on the wall, 10bottles of beer.Take one down, pass it around, 9bottles of beer in the wall \n",
      "9bottles of beer on the wall, 9bottles of beer.Take one down, pass it around, 8bottles of beer in the wall \n",
      "8bottles of beer on the wall, 8bottles of beer.Take one down, pass it around, 7bottles of beer in the wall \n",
      "7bottles of beer on the wall, 7bottles of beer.Take one down, pass it around, 6bottles of beer in the wall \n",
      "6bottles of beer on the wall, 6bottles of beer.Take one down, pass it around, 5bottles of beer in the wall \n",
      "5bottles of beer on the wall, 5bottles of beer.Take one down, pass it around, 4bottles of beer in the wall \n",
      "4bottles of beer on the wall, 4bottles of beer.Take one down, pass it around, 3bottles of beer in the wall \n",
      "3bottles of beer on the wall, 3bottles of beer.Take one down, pass it around, 2bottles of beer in the wall \n",
      "2bottles of beer on the wall, 2bottles of beer.Take one down, pass it around, 1bottle of beer in the wall \n",
      "1bottle of beer on the wall, 1bottle of beer.Take one down, pass it around, 0bottles of beer in the wall \n"
     ]
    }
   ],
   "source": [
    "def song(beer_bottles):\n",
    "    for i in range(beer_bottles,0,-1):\n",
    "        if i==1:\n",
    "            bt='bottle'\n",
    "        else:\n",
    "            bt='bottles'  \n",
    "        if (i-1)==1:\n",
    "            bt1='bottle'\n",
    "        else:\n",
    "            bt1='bottles'        \n",
    "        startstr = (str(i) + bt +' of beer on the wall, ' + str(i) + bt +' of beer.Take one down, pass it around, ' + str(i-1) + bt1 +' of beer in the wall ')  \n",
    "        print(startstr)\n",
    "song(10)        "
   ]
  },
  {
   "cell_type": "markdown",
   "metadata": {},
   "source": [
    "Exercise 5.5 (🌶️): The Fibonacci sequence is a sequence of numbers that starts with 1, followed by 1 again. Every next number is the sum of the two previous numbers. I.e., the sequence starts with 1, 1, 2, 3, 5, 8, 13, 21,... Write a function that calculates and prints the Fibonacci sequence until the numbers get higher than a maximum."
   ]
  },
  {
   "cell_type": "code",
   "execution_count": 26,
   "metadata": {},
   "outputs": [
    {
     "name": "stdout",
     "output_type": "stream",
     "text": [
      "Fibonacci sequence up to 21:\n",
      "0, 1, 1, 2, 3, 5, 8, 13\n"
     ]
    }
   ],
   "source": [
    "def fib(num) :\n",
    "    x ,y = 0 ,1\n",
    "    output=[0]\n",
    "    while y < num :\n",
    "        output.append(y)\n",
    "        x, y = y, x+y\n",
    "\n",
    "\n",
    "    replaced_chars = \"[]\"\t\t\t\t\t\t\t\t\t\t\t\t\t\n",
    "    rp_length = len(replaced_chars)\n",
    "    stringo = str(output)\n",
    "    removed_chars = str.maketrans(replaced_chars ,rp_length*\" \")\n",
    "    print(\"Fibonacci sequence up to \" + str(num) + \":\" + \"\\n\"  + stringo.translate(removed_chars).strip())\n",
    "fib(21)   "
   ]
  },
  {
   "cell_type": "markdown",
   "metadata": {},
   "source": [
    "Exercise 5.8 (🌶️): A, B, C, and D are all different digits. The number DCBA is equal to 4 times the number ABCD. What are the digits? Note: to make ABCD and DCBA conventional numbers, neither A nor D can be zero. Use a quadruple-nested loop."
   ]
  },
  {
   "cell_type": "code",
   "execution_count": 28,
   "metadata": {},
   "outputs": [
    {
     "name": "stdout",
     "output_type": "stream",
     "text": [
      "A = 2\n",
      "B = 1\n",
      "C = 7\n",
      "D = 8\n"
     ]
    }
   ],
   "source": [
    "def nested_nest(digits):\n",
    "    for a in digits[1:]:\n",
    "        for b in digits:\n",
    "            for c in digits:\n",
    "                for d in digits[1:]:\n",
    "                    if 4*(a*1000+b*100+c*10+d*1) == (d*1000+c*100+b*10+a*1):\n",
    "                        print('A =', a)\n",
    "                        print('B =', b)\n",
    "                        print('C =', c)\n",
    "                        print('D =', d)\n",
    "digits = [0, 1, 2, 3, 4, 5, 6, 7, 8, 9]\n",
    "nested_nest(digits)"
   ]
  }
 ],
 "metadata": {
  "interpreter": {
   "hash": "8e98eea00a698c66ff9007bd5a8bf6209cdaa78d416205c57d24ef9296d8223a"
  },
  "kernelspec": {
   "display_name": "Python 3.8.12 64-bit ('strive': conda)",
   "name": "python3"
  },
  "language_info": {
   "codemirror_mode": {
    "name": "ipython",
    "version": 3
   },
   "file_extension": ".py",
   "mimetype": "text/x-python",
   "name": "python",
   "nbconvert_exporter": "python",
   "pygments_lexer": "ipython3",
   "version": "3.8.12"
  },
  "orig_nbformat": 4
 },
 "nbformat": 4,
 "nbformat_minor": 2
}
