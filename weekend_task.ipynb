{
 "cells": [
  {
   "cell_type": "markdown",
   "metadata": {},
   "source": [
    "Task1:\n",
    "1. Pyramid Challenge:\n",
    "In this challenge you need to code a function that receives a number print out this pyramid:\n",
    "\n",
    " \n",
    "\n",
    "i. e. print_pyramid(5) outputs this:\n",
    "#\n",
    "\n",
    "##\n",
    "\n",
    "###\n",
    "\n",
    "####\n",
    "\n",
    "#####"
   ]
  },
  {
   "cell_type": "code",
   "execution_count": 3,
   "metadata": {},
   "outputs": [
    {
     "name": "stdout",
     "output_type": "stream",
     "text": [
      "#\n",
      "##\n",
      "###\n",
      "####\n",
      "#####\n"
     ]
    }
   ],
   "source": [
    "\n",
    "def Pyramid(num):\n",
    "    for i in range(num):\n",
    "        print((i+1)*'#')\n",
    "    return    \n",
    "Pyramid(5)"
   ]
  },
  {
   "cell_type": "markdown",
   "metadata": {},
   "source": [
    "2. Inverted Pyramid Challenge:\n",
    "In this challenge you need to code a function that receives a number print out this pyramid:\n",
    "i. e. print_pyramid(5) outputs this:\n",
    "    #\n",
    "\n",
    "   ##\n",
    "\n",
    "  ###\n",
    "\n",
    " ####\n",
    "\n",
    "#####"
   ]
  },
  {
   "cell_type": "code",
   "execution_count": 4,
   "metadata": {},
   "outputs": [
    {
     "name": "stdout",
     "output_type": "stream",
     "text": [
      "     #\n",
      "    ##\n",
      "   ###\n",
      "  ####\n",
      " #####\n"
     ]
    }
   ],
   "source": [
    "def Inv(num):\n",
    "    for i in range(num,0,-1):\n",
    "        print(' '*i + '#'*(num-(i-1)))\n",
    "    return \n",
    "Inv(5)  "
   ]
  },
  {
   "cell_type": "markdown",
   "metadata": {},
   "source": [
    "3. Strive School Challenge:\n",
    "In this challenge you need to code a function that receives a list of numbers and returns:\n",
    "\n",
    "Strive if the number is divisible by 3\n",
    "School if the number is divisible by 5\n",
    "Strive School if the number is divisible by 3 and 5\n",
    "the number itself otherwise\n",
    "i. e. strive_school([1, 2, 3, 5, 15]) outputs [1, 2, Strive, School, Strive School]"
   ]
  },
  {
   "cell_type": "code",
   "execution_count": 5,
   "metadata": {},
   "outputs": [
    {
     "data": {
      "text/plain": [
       "['1', '2', 'Strive', 'School', 'Strive School']"
      ]
     },
     "execution_count": 5,
     "metadata": {},
     "output_type": "execute_result"
    }
   ],
   "source": [
    "n=([1,2,3,5,15])\n",
    "def strive_school(n):\n",
    "    result=[]\n",
    "    for i in n:\n",
    "         if i% 3== 0 and i%5==0:\n",
    "            result.append('Strive School')\n",
    "         elif i %3==0:\n",
    "            result.append(\"Strive\")\n",
    "         elif i% 5 == 0:\n",
    "            result.append(\"School\")\n",
    "         else:\n",
    "            result.append(str(i))\n",
    "    return result\n",
    "strive_school(n)"
   ]
  },
  {
   "cell_type": "markdown",
   "metadata": {},
   "source": [
    "4. Non Duplicated Challenge:\n",
    "In this challenge you need to code a function that receives a list of numbers and returns the non-duplicated number:\n",
    "\n",
    " \n",
    "\n",
    "i. e. function_whatever([1, 1, 2, 2, 3, 5, 5, 6, 6]) outputs 3\n",
    "\n",
    "i. e. function_whatever([1, 2, 2, 3, 3]) outputs 1"
   ]
  },
  {
   "cell_type": "code",
   "execution_count": 6,
   "metadata": {},
   "outputs": [
    {
     "name": "stdout",
     "output_type": "stream",
     "text": [
      "3\n"
     ]
    }
   ],
   "source": [
    "a=([1, 1, 2, 2, 3, 5, 5, 6, 6])\n",
    "def nonDup(a):\n",
    "    \n",
    "    import collections\n",
    "    b=collections.Counter(a)\n",
    "    for key,value in b.items():\n",
    "        if value==1:\n",
    "            print(key)\n",
    "    return \n",
    "nonDup(a)   "
   ]
  },
  {
   "cell_type": "code",
   "execution_count": 7,
   "metadata": {},
   "outputs": [
    {
     "name": "stdout",
     "output_type": "stream",
     "text": [
      "1\n"
     ]
    }
   ],
   "source": [
    "a=([1, 2, 2, 3, 3]) \n",
    "b={}\n",
    "for i in a:\n",
    "    b[i]=b.get(i,0)+1\n",
    "for key,value in b.items():\n",
    "    if value==1:\n",
    "        print(key)   "
   ]
  },
  {
   "cell_type": "markdown",
   "metadata": {},
   "source": [
    "5. Secret Agent Challenge:\n",
    "The goal of this task is to write a function that is able to find the Secret Agent (if any) in a group of people.\n",
    "\n",
    "The function's parameters are the number of the people and a list of pairs (a list of two elements) with the following scheme:\n",
    "\n",
    "the first element of the pair is the name of the person who has information about the person in the second element of the pair. Example: [[felix, lara], [felix, jeno], [lara, jeno]] means that  Felix has information about Jeno and Lara, then Lara has information about Jeno.\n",
    "\n",
    "Rules:\n",
    "\n",
    "A Secret Agent is the person that has information about all the other people, but no one has information about the Secret Agent.\n",
    "\n",
    "So, in the previous example Felix has information about all the others, but no one has information about Felix -> Felix is the Secret Agent.\n",
    "\n",
    "You have to return:\n",
    "\n",
    "the Secret Agent (if any): [[felix, lara], [felix, jeno], [lara, jeno]] -> returns felix | [[felix, lara], [lara, jeno], [lara, felix]] -> returns lara\n",
    "0 if there isn't a Secret Agent ([[felix, lara], [lara, jeno], [jeno, felix]] -> returns 0) \n",
    "if the number of the people is less or equals to 0, or the length of the list is grater than the number of the people or if the length of the pair is not 2 -> returns -1"
   ]
  },
  {
   "cell_type": "code",
   "execution_count": 51,
   "metadata": {},
   "outputs": [],
   "source": [
    "def secretAgent(people,pairs):\n",
    "    if people<=0 or len(pairs)>people:\n",
    "        return -1\n",
    "    for i in pairs:\n",
    "        if len(i)!=2:\n",
    "            return -1 \n",
    "    nonSpy=[]        \n",
    "    for i in pairs:\n",
    "        nonSpy.append(i[1]) \n",
    "    nonSpy=set(nonSpy)    \n",
    "    nonSpy=list(nonSpy)\n",
    "    Spy=[]\n",
    "    for i in pairs:\n",
    "        if i[0] not in nonSpy:\n",
    "            Spy.append(i[0])         \n",
    "    count={}        \n",
    "    for i in Spy:\n",
    "        count[i]=count.get(i,0)+1\n",
    "    for key,values in count.items():\n",
    "        if values>1:\n",
    "            return (key) \n",
    "        \n",
    "    if len(Spy)<=0:\n",
    "        return 0    \n",
    "\n",
    "\n"
   ]
  },
  {
   "cell_type": "code",
   "execution_count": 53,
   "metadata": {},
   "outputs": [
    {
     "data": {
      "text/plain": [
       "'felix'"
      ]
     },
     "execution_count": 53,
     "metadata": {},
     "output_type": "execute_result"
    }
   ],
   "source": [
    "secretAgent(3,[['felix', 'lara'], ['felix', 'jeno'], ['jeno', 'lara']])"
   ]
  }
 ],
 "metadata": {
  "interpreter": {
   "hash": "8e98eea00a698c66ff9007bd5a8bf6209cdaa78d416205c57d24ef9296d8223a"
  },
  "kernelspec": {
   "display_name": "Python 3.8.12 64-bit ('strive': conda)",
   "language": "python",
   "name": "python3"
  },
  "language_info": {
   "codemirror_mode": {
    "name": "ipython",
    "version": 3
   },
   "file_extension": ".py",
   "mimetype": "text/x-python",
   "name": "python",
   "nbconvert_exporter": "python",
   "pygments_lexer": "ipython3",
   "version": "3.8.12"
  },
  "orig_nbformat": 4
 },
 "nbformat": 4,
 "nbformat_minor": 2
}
