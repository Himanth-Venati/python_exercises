{
 "cells": [
  {
   "cell_type": "markdown",
   "metadata": {},
   "source": [
    "Funny Rock Paper Scissors game Using python\n"
   ]
  },
  {
   "cell_type": "code",
   "execution_count": 1,
   "metadata": {},
   "outputs": [],
   "source": [
    "rock_paper_scissors=['rock','paper','scissors']\n",
    "nikila_robo='rock'\n",
    "Himanth='paper'"
   ]
  },
  {
   "cell_type": "code",
   "execution_count": 159,
   "metadata": {},
   "outputs": [],
   "source": [
    "import numpy as np\n",
    "def play(Himanth):\n",
    "    index=np.random.randint(0,3)\n",
    "    nikila_robo=rock_paper_scissors[index]\n",
    "    if nikila_robo==Himanth:\n",
    "        print('tie!!,\"Try one more time\"')\n",
    "    elif nikila_robo=='rock':\n",
    "        if Himanth=='scissors':\n",
    "            print('nikila robo win!!')\n",
    "            return True\n",
    "        else:\n",
    "            print('Himanth you win!!\"CONGRATULATION')\n",
    "            \n",
    "    elif nikila_robo=='scissors':\n",
    "        if Himanth=='paper':\n",
    "            print('nikila robo win!!')\n",
    "            return True\n",
    "        else:\n",
    "            print('Himanth you win!!\"CONGRATULATION\"')\n",
    "            \n",
    "    elif nikila_robo=='paper':\n",
    "        if Himanth=='rock':\n",
    "            print('nikila robo win!!')\n",
    "            return True\n",
    "        else:\n",
    "            print('Himanth you win!!\"CONGRATULATION\"')    \n",
    "          \n",
    "\n",
    "\n"
   ]
  },
  {
   "cell_type": "code",
   "execution_count": 176,
   "metadata": {},
   "outputs": [
    {
     "name": "stdout",
     "output_type": "stream",
     "text": [
      "nikila robo win!!\n",
      "nikila robo win!!\n",
      "tie!!,\"Try one more time\"\n",
      "tie!!,\"Try one more time\"\n",
      "tie!!,\"Try one more time\"\n",
      "nikila robo win!!\n",
      "nikila robo win!!\n",
      "nikila robo win!!\n",
      "Himanth you win!!\"CONGRATULATION\"\n",
      "Himanth you win!!\"CONGRATULATION\"\n",
      "5\n"
     ]
    }
   ],
   "source": [
    "from collections import Counter\n",
    "Counter = 0\n",
    "for i in range(10):\n",
    "    if play('rock'):\n",
    "        Counter+=1\n",
    "print(Counter)     "
   ]
  }
 ],
 "metadata": {
  "interpreter": {
   "hash": "8e98eea00a698c66ff9007bd5a8bf6209cdaa78d416205c57d24ef9296d8223a"
  },
  "kernelspec": {
   "display_name": "Python 3.8.12 64-bit ('strive': conda)",
   "language": "python",
   "name": "python3"
  },
  "language_info": {
   "codemirror_mode": {
    "name": "ipython",
    "version": 3
   },
   "file_extension": ".py",
   "mimetype": "text/x-python",
   "name": "python",
   "nbconvert_exporter": "python",
   "pygments_lexer": "ipython3",
   "version": "3.8.12"
  },
  "orig_nbformat": 4
 },
 "nbformat": 4,
 "nbformat_minor": 2
}
