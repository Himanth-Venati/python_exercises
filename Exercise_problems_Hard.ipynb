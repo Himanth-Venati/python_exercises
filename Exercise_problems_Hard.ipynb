{
 "cells": [
  {
   "cell_type": "markdown",
   "metadata": {},
   "source": [
    "'''Exercise 4.1 (🌶️🌶️): Define a function that receives a string parameter,\n",
    "and returns an integer indicating the count for all the letters of the alphabet \n",
    "that there are in the string. The expected output format is in a dictionary with \n",
    "the relevant keys and values. \n",
    "The capital version of a lower case letter is considered to be the same letter.'''"
   ]
  },
  {
   "cell_type": "code",
   "execution_count": 84,
   "metadata": {},
   "outputs": [
    {
     "data": {
      "text/plain": [
       "{' ': 4,\n",
       " 'a': 3,\n",
       " 'b': 2,\n",
       " 'e': 2,\n",
       " 'h': 3,\n",
       " 'i': 1,\n",
       " 'm': 1,\n",
       " 'o': 1,\n",
       " 'r': 1,\n",
       " 's': 2,\n",
       " 'u': 1}"
      ]
     },
     "execution_count": 84,
     "metadata": {},
     "output_type": "execute_result"
    }
   ],
   "source": [
    "\n",
    "def count_letters(instr):\n",
    "    s= str(instr).replace(\" \",\" \")\n",
    "    n=sorted(str(s).casefold())\n",
    "    counter_dict={}\n",
    "    for each_letter in n:\n",
    "        if counter_dict.get(each_letter):\n",
    "            counter_dict[each_letter] +=1\n",
    "        else:\n",
    "            counter_dict[each_letter] =1\n",
    "    return (counter_dict)\n",
    "count_letters('mahesh babu is a hero')\n"
   ]
  },
  {
   "cell_type": "markdown",
   "metadata": {},
   "source": [
    "'''Exercise 5.6 (🌶️🌶️): A prime number is a positive integer that is dividable \n",
    "by exactly two different numbers, namely 1 and itself. The lowest (and only even)\n",
    "prime number is 2. The first 10 prime numbers are 2, 3, 5, 7, 11, 13, 17, 19, 23, and 29. \n",
    "Write a function that returns a list off all prime numbers below a given number.'''"
   ]
  },
  {
   "cell_type": "code",
   "execution_count": 82,
   "metadata": {},
   "outputs": [
    {
     "name": "stdout",
     "output_type": "stream",
     "text": [
      "[2, 3, 5, 7, 11, 13, 17, 19, 23, 29]\n"
     ]
    }
   ],
   "source": [
    "    \n",
    "def prime(num):\n",
    "    primes=[]\n",
    "    for possible_prime in range(2,num+1):\n",
    "        isprime=True\n",
    "        for i in range(2,possible_prime):\n",
    "            if possible_prime%i==0:\n",
    "                isprime=False\n",
    "                break\n",
    "        if isprime:\n",
    "            primes.append(possible_prime)\n",
    "    print(primes)   \n",
    "prime(30)             "
   ]
  },
  {
   "cell_type": "markdown",
   "metadata": {},
   "source": [
    "'''Exercise 5.7 (🌶️🌶️): Write a function that prints all integers between the parameters a and b \n",
    "that can be written as the sum of two squares. \n",
    "Produce output in the form of z = x**2 + y**2, e.g., 58 = 3**2 + 7**2.\n",
    "If a number occurs on the list with multiple different ways of writing it as the sum of two squares, \n",
    "that is acceptable.'''"
   ]
  },
  {
   "cell_type": "code",
   "execution_count": 87,
   "metadata": {},
   "outputs": [],
   "source": [
    "def c(num):\n",
    "    a,b=0,num\n",
    "    while a<=b:\n",
    "        a2=a*a\n",
    "        b2=b*b\n",
    "        if a2+b2==num:\n",
    "            return True\n",
    "            print(a2,b2)\n",
    "        elif a2+b2<num:\n",
    "            a+=1\n",
    "        elif a2+b2>num:\n",
    "            b+=1\n",
    "    return False    "
   ]
  }
 ],
 "metadata": {
  "interpreter": {
   "hash": "8e98eea00a698c66ff9007bd5a8bf6209cdaa78d416205c57d24ef9296d8223a"
  },
  "kernelspec": {
   "display_name": "Python 3.8.12 64-bit ('strive': conda)",
   "name": "python3"
  },
  "language_info": {
   "codemirror_mode": {
    "name": "ipython",
    "version": 3
   },
   "file_extension": ".py",
   "mimetype": "text/x-python",
   "name": "python",
   "nbconvert_exporter": "python",
   "pygments_lexer": "ipython3",
   "version": "3.8.12"
  },
  "orig_nbformat": 4
 },
 "nbformat": 4,
 "nbformat_minor": 2
}
