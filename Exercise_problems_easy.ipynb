{
 "cells": [
  {
   "cell_type": "code",
   "execution_count": 12,
   "id": "290a58da",
   "metadata": {},
   "outputs": [
    {
     "name": "stdout",
     "output_type": "stream",
     "text": [
      "wholesale costs for 60 copies= 945.45\n"
     ]
    }
   ],
   "source": [
    "'''Exercise 1.1: The cover price of a book is 24.95 EUR, but bookstores get a 40 percent discount.\n",
    "shipping costs 3 EUR for the first copy and 75 cents for each additional copy.\n",
    "Calculate the total wholesale costs for 60 copies.'''\n",
    "#Actual_cost_eachbook \n",
    "a = 24.95\n",
    "#Actual_cost_of_totalbooks  \n",
    "e= a*60\n",
    "#total_discount_for_each_book  \n",
    "d= (a/100)*40\n",
    "#discount_after_eachbook \n",
    "b= a-d\n",
    "#total_books_cost_after_discount  \n",
    "c=b*60\n",
    "#Total_shipping_cost \n",
    "s=3+(0.75*59)\n",
    "#whole sale costs \n",
    "m= c+s\n",
    "m1= \"{:.2f}\".format(m)\n",
    "print('wholesale costs for 60 copies=',m1 )"
   ]
  },
  {
   "cell_type": "code",
   "execution_count": 2,
   "id": "e969232a",
   "metadata": {},
   "outputs": [
    {
     "ename": "ZeroDivisionError",
     "evalue": "division by zero",
     "output_type": "error",
     "traceback": [
      "\u001b[1;31m---------------------------------------------------------------------------\u001b[0m",
      "\u001b[1;31mZeroDivisionError\u001b[0m                         Traceback (most recent call last)",
      "\u001b[1;32mC:\\Users\\VENATI~1\\AppData\\Local\\Temp/ipykernel_14772/806978554.py\u001b[0m in \u001b[0;36m<module>\u001b[1;34m\u001b[0m\n\u001b[0;32m      8\u001b[0m Try to make Python raise such a ZeroDivisionError.'''\n\u001b[0;32m      9\u001b[0m \u001b[0mX\u001b[0m\u001b[1;33m=\u001b[0m\u001b[1;36m5\u001b[0m\u001b[1;33m\u001b[0m\u001b[1;33m\u001b[0m\u001b[0m\n\u001b[1;32m---> 10\u001b[1;33m \u001b[0mY\u001b[0m\u001b[1;33m=\u001b[0m\u001b[1;36m5\u001b[0m\u001b[1;33m/\u001b[0m\u001b[1;36m0\u001b[0m\u001b[1;33m\u001b[0m\u001b[1;33m\u001b[0m\u001b[0m\n\u001b[0m\u001b[0;32m     11\u001b[0m \u001b[0mprint\u001b[0m\u001b[1;33m(\u001b[0m\u001b[0mY\u001b[0m\u001b[1;33m)\u001b[0m\u001b[1;33m\u001b[0m\u001b[1;33m\u001b[0m\u001b[0m\n",
      "\u001b[1;31mZeroDivisionError\u001b[0m: division by zero"
     ]
    }
   ],
   "source": [
    "'''Exercise 1.2: When something is wrong with your code, \n",
    "Python will raise errors. Often these will be \"syntax errors\" \n",
    "that signal that something is wrong with the form of your code \n",
    "(e.g., the code in the previous exercise raised a SyntaxError).\n",
    "There are also \"runtime errors\", which signal that your code was in itself formally correct,\n",
    "but that something went wrong during the code's execution. A good example is the ZeroDivisionError, \n",
    "which indicates that you tried to divide a number by zero (which, as you may know, is not allowed).\n",
    "Try to make Python raise such a ZeroDivisionError.'''\n",
    "X=5\n",
    "Y=5/0\n",
    "print(Y)"
   ]
  },
  {
   "cell_type": "code",
   "execution_count": 13,
   "id": "0a91453b",
   "metadata": {},
   "outputs": [
    {
     "name": "stdout",
     "output_type": "stream",
     "text": [
      "20\n",
      "19\n",
      "18\n",
      "17\n",
      "16\n",
      "15\n",
      "14\n",
      "13\n",
      "12\n",
      "11\n",
      "10\n",
      "9\n",
      "8\n",
      "7\n",
      "6\n",
      "5\n",
      "4\n",
      "3\n",
      "2\n",
      "1\n",
      "Blast Off!\n"
     ]
    }
   ],
   "source": [
    "'''Exercise 5.1: Create a countdown function that starts at a certain count, \n",
    "and counts down to zero. Instead of zero, print \"Blast off!\". Use a for loop.'''\n",
    "def count(x):\n",
    "    for i in range(x,0,-1):\n",
    "        print(i)\n",
    "    print('Blast Off!')\n",
    "count(20)        "
   ]
  },
  {
   "cell_type": "code",
   "execution_count": 7,
   "id": "40f4caf4",
   "metadata": {},
   "outputs": [
    {
     "name": "stdout",
     "output_type": "stream",
     "text": [
      "100\n",
      "2\n",
      "4\n"
     ]
    }
   ],
   "source": [
    "'''Exercise 5.2: Write and test three functions that return the largest, the smallest, \n",
    "and the number of dividables by 3 in a given collection of numbers. \n",
    "Use the algorithm described earlier in the Part 5 lecture :)'''\n",
    "def maximum(a):\n",
    "    max=a[0]\n",
    "    for i in a:\n",
    "        if i>max:\n",
    "            max=i\n",
    "    return max\n",
    "def minimum(a):\n",
    "    min=a[0]\n",
    "    for j in a:\n",
    "        if j<min:\n",
    "            min=j\n",
    "    return min\n",
    "def div(a):\n",
    "    div=0\n",
    "    for k in a:\n",
    "        if k%3==0:\n",
    "            div += 1\n",
    "    return div\n",
    "a=[2,4,6,12,15,99,100]\n",
    "print(maximum(a))\n",
    "print(minimum(a))\n",
    "print(div(a))"
   ]
  }
 ],
 "metadata": {
  "interpreter": {
   "hash": "8e98eea00a698c66ff9007bd5a8bf6209cdaa78d416205c57d24ef9296d8223a"
  },
  "kernelspec": {
   "display_name": "Python 3.8.12 64-bit ('strive': conda)",
   "name": "python3"
  },
  "language_info": {
   "codemirror_mode": {
    "name": "ipython",
    "version": 3
   },
   "file_extension": ".py",
   "mimetype": "text/x-python",
   "name": "python",
   "nbconvert_exporter": "python",
   "pygments_lexer": "ipython3",
   "version": "3.8.12"
  }
 },
 "nbformat": 4,
 "nbformat_minor": 5
}
