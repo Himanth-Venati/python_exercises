{
 "cells": [
  {
   "cell_type": "markdown",
   "metadata": {},
   "source": [
    "Task1:\n",
    "1. Pyramid Challenge:\n",
    "In this challenge you need to code a function that receives a number print out this pyramid:\n",
    "\n",
    " \n",
    "\n",
    "i. e. print_pyramid(5) outputs this:\n",
    "#\n",
    "\n",
    "##\n",
    "\n",
    "###\n",
    "\n",
    "####\n",
    "\n",
    "#####"
   ]
  },
  {
   "cell_type": "code",
   "execution_count": null,
   "metadata": {},
   "outputs": [],
   "source": [
    "\n",
    "def Pyramid(num):\n",
    "    for i in range(5):\n",
    "        print((i+1)*'#')\n",
    "    return    \n",
    "Pyramid(num)"
   ]
  },
  {
   "cell_type": "markdown",
   "metadata": {},
   "source": [
    "2. Inverted Pyramid Challenge:\n",
    "In this challenge you need to code a function that receives a number print out this pyramid:\n",
    "i. e. print_pyramid(5) outputs this:\n",
    "    #\n",
    "\n",
    "   ##\n",
    "\n",
    "  ###\n",
    "\n",
    " ####\n",
    "\n",
    "#####"
   ]
  },
  {
   "cell_type": "code",
   "execution_count": null,
   "metadata": {},
   "outputs": [],
   "source": [
    "def Inv(num):\n",
    "    for i in range(num,0,-1):\n",
    "        print(' '*i + '#'*(num-(i-1)))\n",
    "    return \n",
    "Inv(5)  "
   ]
  },
  {
   "cell_type": "markdown",
   "metadata": {},
   "source": [
    "3. Strive School Challenge:\n",
    "In this challenge you need to code a function that receives a list of numbers and returns:\n",
    "\n",
    "Strive if the number is divisible by 3\n",
    "School if the number is divisible by 5\n",
    "Strive School if the number is divisible by 3 and 5\n",
    "the number itself otherwise\n",
    "i. e. strive_school([1, 2, 3, 5, 15]) outputs [1, 2, Strive, School, Strive School]"
   ]
  },
  {
   "cell_type": "code",
   "execution_count": null,
   "metadata": {},
   "outputs": [],
   "source": [
    "n=([1,2,3,5,15])\n",
    "def strive_school(n):\n",
    "    result=[]\n",
    "    for i in n:\n",
    "         if i% 3== 0 and i%5==0:\n",
    "            result.append('Strive School')\n",
    "         elif i %3==0:\n",
    "            result.append(\"Strive\")\n",
    "         elif i% 5 == 0:\n",
    "            result.append(\"School\")\n",
    "         else:\n",
    "            result.append(str(i))\n",
    "    return result\n",
    "strive_school(n)"
   ]
  },
  {
   "cell_type": "markdown",
   "metadata": {},
   "source": [
    "4. Non Duplicated Challenge:\n",
    "In this challenge you need to code a function that receives a list of numbers and returns the non-duplicated number:\n",
    "\n",
    " \n",
    "\n",
    "i. e. function_whatever([1, 1, 2, 2, 3, 5, 5, 6, 6]) outputs 3\n",
    "\n",
    "i. e. function_whatever([1, 2, 2, 3, 3]) outputs 1"
   ]
  },
  {
   "cell_type": "code",
   "execution_count": null,
   "metadata": {},
   "outputs": [],
   "source": [
    "a=([1, 1, 2, 2, 3, 5, 5, 6, 6])\n",
    "def nonDup(a):\n",
    "    \n",
    "    import collections\n",
    "    b=collections.Counter(a)\n",
    "    for key,value in b.items():\n",
    "        if value==1:\n",
    "            print(key)\n",
    "    return \n",
    "nonDup(a)   "
   ]
  },
  {
   "cell_type": "code",
   "execution_count": null,
   "metadata": {},
   "outputs": [],
   "source": [
    "a=([1, 2, 2, 3, 3]) \n",
    "b={}\n",
    "for i in a:\n",
    "    b[i]=b.get(i,0)+1\n",
    "for key,value in b.items():\n",
    "    if value==1:\n",
    "        print(key)   "
   ]
  },
  {
   "cell_type": "markdown",
   "metadata": {},
   "source": [
    "5. Secret Agent Challenge:\n",
    "The goal of this task is to write a function that is able to find the Secret Agent (if any) in a group of people.\n",
    "\n",
    "The function's parameters are the number of the people and a list of pairs (a list of two elements) with the following scheme:\n",
    "\n",
    "the first element of the pair is the name of the person who has information about the person in the second element of the pair. Example: [[felix, lara], [felix, jeno], [lara, jeno]] means that  Felix has information about Jeno and Lara, then Lara has information about Jeno.\n",
    "\n",
    "Rules:\n",
    "\n",
    "A Secret Agent is the person that has information about all the other people, but no one has information about the Secret Agent.\n",
    "\n",
    "So, in the previous example Felix has information about all the others, but no one has information about Felix -> Felix is the Secret Agent.\n",
    "\n",
    "You have to return:\n",
    "\n",
    "the Secret Agent (if any): [[felix, lara], [felix, jeno], [lara, jeno]] -> returns felix | [[felix, lara], [lara, jeno], [lara, felix]] -> returns lara\n",
    "0 if there isn't a Secret Agent ([[felix, lara], [lara, jeno], [jeno, felix]] -> returns 0) \n",
    "if the number of the people is less or equals to 0, or the length of the list is grater than the number of the people or if the length of the pair is not 2 -> returns -1"
   ]
  }
 ],
 "metadata": {
  "language_info": {
   "name": "python"
  },
  "orig_nbformat": 4
 },
 "nbformat": 4,
 "nbformat_minor": 2
}
